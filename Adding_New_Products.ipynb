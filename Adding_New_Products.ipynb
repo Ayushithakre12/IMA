{
  "nbformat": 4,
  "nbformat_minor": 0,
  "metadata": {
    "colab": {
      "name": "Adding New Products",
      "provenance": [],
      "collapsed_sections": [],
      "authorship_tag": "ABX9TyMiYJGmShDLLkbo27T1pDim",
      "include_colab_link": true
    },
    "kernelspec": {
      "display_name": "Python 3",
      "name": "python3"
    },
    "language_info": {
      "name": "python"
    }
  },
  "cells": [
    {
      "cell_type": "markdown",
      "metadata": {
        "id": "view-in-github",
        "colab_type": "text"
      },
      "source": [
        "<a href=\"https://colab.research.google.com/github/Ayushithakre12/IMA/blob/main/Adding_New_Products.ipynb\" target=\"_parent\"><img src=\"https://colab.research.google.com/assets/colab-badge.svg\" alt=\"Open In Colab\"/></a>"
      ]
    },
    {
      "cell_type": "markdown",
      "metadata": {
        "id": "X9E_hYsg3A5w"
      },
      "source": [
        "## Read Data From JASON"
      ]
    },
    {
      "cell_type": "code",
      "metadata": {
        "id": "Jnth5XWfVkFY"
      },
      "source": [
        "import json\n",
        "fd=open(\"record.json\",'r')\n",
        "r=fd.read()\n",
        "fd.close()"
      ],
      "execution_count": null,
      "outputs": []
    },
    {
      "cell_type": "code",
      "metadata": {
        "colab": {
          "base_uri": "https://localhost:8080/",
          "height": 191
        },
        "id": "PY2baOy4ZvW3",
        "outputId": "3f5a54f7-7f9f-4a3f-f12e-1f3160a45f61"
      },
      "source": [
        "r"
      ],
      "execution_count": null,
      "outputs": [
        {
          "output_type": "execute_result",
          "data": {
            "application/vnd.google.colaboratory.intrinsic+json": {
              "type": "string"
            },
            "text/plain": [
              "'{\"1001\": {\"name\": \"Choco Cake\", \"qn\": 34, \"pr\": 100,\"dis\":\"yes\",\"Rate pr\":3}, \"1002\": {\"name\": \"Milk Cake\", \"pr\": 800, \"qn\": 100,\"dis\":\"yes\",\"Rate pr\":4}, \"1003\": {\"name\": \"Drink\", \"pr\": 85, \"qn\": 100,\"dis\":\"no\",\"Rate pr\":5}, \"1004\": {\"name\": \"Candy\", \"pr\": 5, \"qn\": 1000,\"dis\":\"yes\",\"Rate pr\":4}, \"1005\": {\"name\": \"Pen\", \"pr\": 20, \"qn\": 100,\"dis\":\"yes\",\"Rate pr\":3}, \"1006\": {\"name\": \"Phone\", \"pr\": 50000, \"qn\": 10,\"dis\":\"yes\",\"Rate pr\":3}, \"1007\": {\"name\": \"Mic\", \"pr\": 1500, \"qn\": 0,\"dis\":\"no\",\"Rate pr\":2}, \"1008\": {\"name\": \"Case\", \"pr\": 599, \"qn\": 5,\"dis\":\"no\",\"Rate pr\":3}, \"1009\": {\"name\": \"Keyboard\", \"pr\": 1999, \"qn\": 10,\"dis\":\"yes\",\"Rate pr\":3},\"1010\": {\"name\": \"Choco\", \"qn\": 34, \"pr\": 100,\"dis\":\"yes\",\"Rate pr\":3},\"1011\": {\"name\": \"milkshake\", \"qn\": 3, \"pr\": 102,\"dis\":\"yes\",\"Rate pr\":3},\"1012\": {\"name\": \"Bananashake\", \"qn\": 3, \"pr\": 150,\"dis\":\"yes\",\"Rate pr\":2},\"1013\": {\"name\": \"Cake\", \"qn\": 34, \"pr\": 100,\"dis\":\"no\",\"Rate pr\":3},\"1014\": {\"name\": \"glasses\", \"qn\": 10, \"pr\": 1000,\"dis\":\"yes\",\"Rate pr\":3},\"1015\": {\"name\": \"Camera\", \"qn\": 34, \"pr\": 10000,\"dis\":\"no\",\"Rate pr\":5},\"1016\": {\"name\": \"study board\", \"qn\": 316, \"pr\": 500,\"dis\":\"yes\",\"Rate pr\":4},\"1017\": {\"name\": \"Sofa\", \"qn\": 5, \"pr\": 10000,\"dis\":\"yes\",\"Rate pr\":3},\"1018\": {\"name\": \"Textbook\", \"qn\": 314, \"pr\": 1200,\"dis\":\"yes\",\"Rate pr\":5},\"1019\": {\"name\": \"Notebook\", \"qn\": 34, \"pr\": 100,\"dis\":\"yes\",\"Rate pr\":3},\"1020\": {\"name\": \"Workbook\", \"qn\": 233, \"pr\": 300,\"dis\":\"no\",\"Rate pr\":5},\"1021\": {\"name\": \"box\", \"qn\": 34, \"pr\": 100,\"dis\":\"yes\",\"Rate pr\":3},\"1022\": {\"name\": \"pillow\", \"qn\": 12, \"pr\": 100,\"dis\":\"no\",\"Rate pr\":3},\"1023\": {\"name\": \"Bedsheet\", \"qn\": 67, \"pr\": 100,\"dis\":\"no\",\"Rate pr\":3},\"1024\": {\"name\": \"Matrix\", \"qn\": 43, \"pr\": 1600,\"dis\":\"no\",\"Rate pr\":3},\"1025\": {\"name\": \"knife\", \"qn\": 6, \"pr\": 150,\"dis\":\"yes\",\"Rate pr\":3},\"1026\": {\"name\": \"utensiles\", \"qn\": 38, \"pr\": 700,\"dis\":\"yes\",\"Rate pr\":3},\"1027\": {\"name\": \"Flower\", \"qn\": 534, \"pr\": 800,\"dis\":\"yes\",\"Rate pr\":3},\"1028\": {\"name\": \"shirt\", \"qn\": 24, \"pr\": 107,\"dis\":\"no\",\"Rate pr\":3},\"1029\": {\"name\": \"Award\", \"qn\": 34, \"pr\": 100,\"dis\":\"yes\",\"Rate pr\":3},\"1030\": {\"name\": \"Table\", \"qn\": 10, \"pr\": 1000,\"dis\":\"no\",\"Rate pr\":5}}\\n'"
            ]
          },
          "metadata": {},
          "execution_count": 4
        }
      ]
    },
    {
      "cell_type": "code",
      "metadata": {
        "id": "MrHSdYeZ72mc"
      },
      "source": [
        "record=json.loads(r)"
      ],
      "execution_count": null,
      "outputs": []
    },
    {
      "cell_type": "code",
      "metadata": {
        "colab": {
          "base_uri": "https://localhost:8080/"
        },
        "id": "Sow7qNdR8IVK",
        "outputId": "f25b82d6-1929-412f-b633-a6f6f1edc4a8"
      },
      "source": [
        "record"
      ],
      "execution_count": null,
      "outputs": [
        {
          "output_type": "execute_result",
          "data": {
            "text/plain": [
              "{'1001': {'Rate pr': 3,\n",
              "  'dis': 'yes',\n",
              "  'name': 'Choco Cake',\n",
              "  'pr': 100,\n",
              "  'qn': 34},\n",
              " '1002': {'Rate pr': 4,\n",
              "  'dis': 'yes',\n",
              "  'name': 'Milk Cake',\n",
              "  'pr': 800,\n",
              "  'qn': 100},\n",
              " '1003': {'Rate pr': 5, 'dis': 'no', 'name': 'Drink', 'pr': 85, 'qn': 100},\n",
              " '1004': {'Rate pr': 4, 'dis': 'yes', 'name': 'Candy', 'pr': 5, 'qn': 1000},\n",
              " '1005': {'Rate pr': 3, 'dis': 'yes', 'name': 'Pen', 'pr': 20, 'qn': 100},\n",
              " '1006': {'Rate pr': 3, 'dis': 'yes', 'name': 'Phone', 'pr': 50000, 'qn': 10},\n",
              " '1007': {'Rate pr': 2, 'dis': 'no', 'name': 'Mic', 'pr': 1500, 'qn': 0},\n",
              " '1008': {'Rate pr': 3, 'dis': 'no', 'name': 'Case', 'pr': 599, 'qn': 5},\n",
              " '1009': {'Rate pr': 3,\n",
              "  'dis': 'yes',\n",
              "  'name': 'Keyboard',\n",
              "  'pr': 1999,\n",
              "  'qn': 10},\n",
              " '1010': {'Rate pr': 3, 'dis': 'yes', 'name': 'Choco', 'pr': 100, 'qn': 34},\n",
              " '1011': {'Rate pr': 3, 'dis': 'yes', 'name': 'milkshake', 'pr': 102, 'qn': 3},\n",
              " '1012': {'Rate pr': 2,\n",
              "  'dis': 'yes',\n",
              "  'name': 'Bananashake',\n",
              "  'pr': 150,\n",
              "  'qn': 3},\n",
              " '1013': {'Rate pr': 3, 'dis': 'no', 'name': 'Cake', 'pr': 100, 'qn': 34},\n",
              " '1014': {'Rate pr': 3, 'dis': 'yes', 'name': 'glasses', 'pr': 1000, 'qn': 10},\n",
              " '1015': {'Rate pr': 5, 'dis': 'no', 'name': 'Camera', 'pr': 10000, 'qn': 34},\n",
              " '1016': {'Rate pr': 4,\n",
              "  'dis': 'yes',\n",
              "  'name': 'study board',\n",
              "  'pr': 500,\n",
              "  'qn': 316},\n",
              " '1017': {'Rate pr': 3, 'dis': 'yes', 'name': 'Sofa', 'pr': 10000, 'qn': 5},\n",
              " '1018': {'Rate pr': 5,\n",
              "  'dis': 'yes',\n",
              "  'name': 'Textbook',\n",
              "  'pr': 1200,\n",
              "  'qn': 314},\n",
              " '1019': {'Rate pr': 3, 'dis': 'yes', 'name': 'Notebook', 'pr': 100, 'qn': 34},\n",
              " '1020': {'Rate pr': 5, 'dis': 'no', 'name': 'Workbook', 'pr': 300, 'qn': 233},\n",
              " '1021': {'Rate pr': 3, 'dis': 'yes', 'name': 'box', 'pr': 100, 'qn': 34},\n",
              " '1022': {'Rate pr': 3, 'dis': 'no', 'name': 'pillow', 'pr': 100, 'qn': 12},\n",
              " '1023': {'Rate pr': 3, 'dis': 'no', 'name': 'Bedsheet', 'pr': 100, 'qn': 67},\n",
              " '1024': {'Rate pr': 3, 'dis': 'no', 'name': 'Matrix', 'pr': 1600, 'qn': 43},\n",
              " '1025': {'Rate pr': 3, 'dis': 'yes', 'name': 'knife', 'pr': 150, 'qn': 6},\n",
              " '1026': {'Rate pr': 3,\n",
              "  'dis': 'yes',\n",
              "  'name': 'utensiles',\n",
              "  'pr': 700,\n",
              "  'qn': 38},\n",
              " '1027': {'Rate pr': 3, 'dis': 'yes', 'name': 'Flower', 'pr': 800, 'qn': 534},\n",
              " '1028': {'Rate pr': 3, 'dis': 'no', 'name': 'shirt', 'pr': 107, 'qn': 24},\n",
              " '1029': {'Rate pr': 3, 'dis': 'yes', 'name': 'Award', 'pr': 100, 'qn': 34},\n",
              " '1030': {'Rate pr': 5, 'dis': 'no', 'name': 'Table', 'pr': 1000, 'qn': 10}}"
            ]
          },
          "metadata": {},
          "execution_count": 6
        }
      ]
    },
    {
      "cell_type": "code",
      "metadata": {
        "colab": {
          "base_uri": "https://localhost:8080/"
        },
        "id": "DJo_rdeH8pcd",
        "outputId": "30828944-79ff-4bf7-f57f-02be0856b7fd"
      },
      "source": [
        "prod_id=str(input(\"enter product id:\"))\n",
        "name=str(input(\"Please..! Entre the name of product:\"))\n",
        "pr=int(input(\"Enter the price of product:\"))\n",
        "qn=int(input('Entre the Quantity of product:'))\n",
        "dis=str(input(\"Is there is discount on the product ? \"))\n",
        "Rate_pr=int(input(\"Rate the product out of 5:\"))"
      ],
      "execution_count": null,
      "outputs": [
        {
          "name": "stdout",
          "output_type": "stream",
          "text": [
            "enter product id:1002\n",
            "Please..! Entre the name of product:butter\n",
            "Enter the price of product:12\n",
            "Entre the Quantity of product:13\n",
            "Is there is discount on the product ? yes\n",
            "Rate the product out of 5:4\n"
          ]
        }
      ]
    },
    {
      "cell_type": "code",
      "metadata": {
        "colab": {
          "base_uri": "https://localhost:8080/"
        },
        "id": "iCNzINxA92Od",
        "outputId": "06caa48c-2a91-43b9-c377-408c965b62d5"
      },
      "source": [
        "{prod_id:{'name':name,'pr':pr,'qn':qn,'dis':dis,'Rate pr':Rate_pr}}"
      ],
      "execution_count": null,
      "outputs": [
        {
          "output_type": "execute_result",
          "data": {
            "text/plain": [
              "{'1002': {'Rate pr': 4, 'dis': 'yes', 'name': 'butter', 'pr': 12, 'qn': 13}}"
            ]
          },
          "metadata": {},
          "execution_count": 8
        }
      ]
    },
    {
      "cell_type": "code",
      "metadata": {
        "colab": {
          "base_uri": "https://localhost:8080/"
        },
        "id": "ZtcHMjGl-eOc",
        "outputId": "d883dcc4-4ef0-4111-864b-17c7fd4b38ae"
      },
      "source": [
        "record[prod_id]={'name':name,'pr':pr,'qn':qn,'dis':dis,'Rate pr':Rate_pr}\n",
        "record"
      ],
      "execution_count": null,
      "outputs": [
        {
          "output_type": "execute_result",
          "data": {
            "text/plain": [
              "{'1001': {'Rate pr': 3,\n",
              "  'dis': 'yes',\n",
              "  'name': 'Choco Cake',\n",
              "  'pr': 100,\n",
              "  'qn': 34},\n",
              " '1002': {'Rate pr': 4, 'dis': 'yes', 'name': 'butter', 'pr': 12, 'qn': 13},\n",
              " '1003': {'Rate pr': 5, 'dis': 'no', 'name': 'Drink', 'pr': 85, 'qn': 100},\n",
              " '1004': {'Rate pr': 4, 'dis': 'yes', 'name': 'Candy', 'pr': 5, 'qn': 1000},\n",
              " '1005': {'Rate pr': 3, 'dis': 'yes', 'name': 'Pen', 'pr': 20, 'qn': 100},\n",
              " '1006': {'Rate pr': 3, 'dis': 'yes', 'name': 'Phone', 'pr': 50000, 'qn': 10},\n",
              " '1007': {'Rate pr': 2, 'dis': 'no', 'name': 'Mic', 'pr': 1500, 'qn': 0},\n",
              " '1008': {'Rate pr': 3, 'dis': 'no', 'name': 'Case', 'pr': 599, 'qn': 5},\n",
              " '1009': {'Rate pr': 3,\n",
              "  'dis': 'yes',\n",
              "  'name': 'Keyboard',\n",
              "  'pr': 1999,\n",
              "  'qn': 10},\n",
              " '1010': {'Rate pr': 3, 'dis': 'yes', 'name': 'Choco', 'pr': 100, 'qn': 34},\n",
              " '1011': {'Rate pr': 3, 'dis': 'yes', 'name': 'milkshake', 'pr': 102, 'qn': 3},\n",
              " '1012': {'Rate pr': 2,\n",
              "  'dis': 'yes',\n",
              "  'name': 'Bananashake',\n",
              "  'pr': 150,\n",
              "  'qn': 3},\n",
              " '1013': {'Rate pr': 3, 'dis': 'no', 'name': 'Cake', 'pr': 100, 'qn': 34},\n",
              " '1014': {'Rate pr': 3, 'dis': 'yes', 'name': 'glasses', 'pr': 1000, 'qn': 10},\n",
              " '1015': {'Rate pr': 5, 'dis': 'no', 'name': 'Camera', 'pr': 10000, 'qn': 34},\n",
              " '1016': {'Rate pr': 4,\n",
              "  'dis': 'yes',\n",
              "  'name': 'study board',\n",
              "  'pr': 500,\n",
              "  'qn': 316},\n",
              " '1017': {'Rate pr': 3, 'dis': 'yes', 'name': 'Sofa', 'pr': 10000, 'qn': 5},\n",
              " '1018': {'Rate pr': 5,\n",
              "  'dis': 'yes',\n",
              "  'name': 'Textbook',\n",
              "  'pr': 1200,\n",
              "  'qn': 314},\n",
              " '1019': {'Rate pr': 3, 'dis': 'yes', 'name': 'Notebook', 'pr': 100, 'qn': 34},\n",
              " '1020': {'Rate pr': 5, 'dis': 'no', 'name': 'Workbook', 'pr': 300, 'qn': 233},\n",
              " '1021': {'Rate pr': 3, 'dis': 'yes', 'name': 'box', 'pr': 100, 'qn': 34},\n",
              " '1022': {'Rate pr': 3, 'dis': 'no', 'name': 'pillow', 'pr': 100, 'qn': 12},\n",
              " '1023': {'Rate pr': 3, 'dis': 'no', 'name': 'Bedsheet', 'pr': 100, 'qn': 67},\n",
              " '1024': {'Rate pr': 3, 'dis': 'no', 'name': 'Matrix', 'pr': 1600, 'qn': 43},\n",
              " '1025': {'Rate pr': 3, 'dis': 'yes', 'name': 'knife', 'pr': 150, 'qn': 6},\n",
              " '1026': {'Rate pr': 3,\n",
              "  'dis': 'yes',\n",
              "  'name': 'utensiles',\n",
              "  'pr': 700,\n",
              "  'qn': 38},\n",
              " '1027': {'Rate pr': 3, 'dis': 'yes', 'name': 'Flower', 'pr': 800, 'qn': 534},\n",
              " '1028': {'Rate pr': 3, 'dis': 'no', 'name': 'shirt', 'pr': 107, 'qn': 24},\n",
              " '1029': {'Rate pr': 3, 'dis': 'yes', 'name': 'Award', 'pr': 100, 'qn': 34},\n",
              " '1030': {'Rate pr': 5, 'dis': 'no', 'name': 'Table', 'pr': 1000, 'qn': 10}}"
            ]
          },
          "metadata": {},
          "execution_count": 9
        }
      ]
    },
    {
      "cell_type": "code",
      "metadata": {
        "id": "9kwU-s2t-xGx"
      },
      "source": [
        ""
      ],
      "execution_count": null,
      "outputs": []
    },
    {
      "cell_type": "markdown",
      "metadata": {
        "id": "2O6psQM3mDI7"
      },
      "source": [
        "## ADD NEW ITEM INTO INVENTORY"
      ]
    },
    {
      "cell_type": "code",
      "metadata": {
        "colab": {
          "base_uri": "https://localhost:8080/"
        },
        "id": "ZS4aVQOWmMNd",
        "outputId": "a5d425cf-36c0-4bfc-a592-61c1a1403f3e"
      },
      "source": [
        "prod_id=str(input(\"enter product id:\"))\n",
        "if prod_id != range(1001,1031):\n",
        "  print(\"Entre correct product Id...\")\n",
        "  prod_id=str(input(\"enter product id:\"))\n",
        "name=str(input(\"Please..! Entre the name of product:\"))\n",
        "pr=int(input(\"Enter the price of product:\"))\n",
        "qn=int(input('Entre the Quantity of product:'))\n",
        "dis=str(input(\"Is there is discount on the product ? \"))\n",
        "if dis != ('yes' or 'no'):\n",
        "  print(\"Please entre yes or no\")\n",
        "  dis=str(input(\"Is there is discount on the product ? \"))\n",
        "Rate_pr=int(input(\"Rate the product out of 5:\"))\n",
        "if Rate_pr != range(1,6):\n",
        "  print(\" Entre the value between 1 to 5.\" )\n",
        "  Rate_pr=int(input(\"Rate the product out of 5:\"))\n",
        "record[prod_id]={'name':name,'pr':pr,'qn':qn,'dis':dis,'Rate pr':Rate_pr}\n",
        "\n",
        "js=json.dumps(record)\n",
        "\n",
        "fd=open(\"record.json\",'w')\n",
        "r=fd.write(js)\n",
        "fd.close()"
      ],
      "execution_count": null,
      "outputs": [
        {
          "name": "stdout",
          "output_type": "stream",
          "text": [
            "enter product id:1001\n",
            "Please..! Entre the name of product:rice\n",
            "Enter the price of product:34\n",
            "Entre the Quantity of product:34\n",
            "Is there is discount on the product ? 1\n",
            "Please entre yes or no\n",
            "Is there is discount on the product ? yes\n",
            "Rate the product out of 5:4\n",
            " Entre the value between 1 to 5.\n",
            "Rate the product out of 5:4\n"
          ]
        }
      ]
    },
    {
      "cell_type": "code",
      "metadata": {
        "id": "Cu9X7HmV6q2m",
        "colab": {
          "base_uri": "https://localhost:8080/"
        },
        "outputId": "599c00d6-233a-4413-b0bf-c572b19bceb5"
      },
      "source": [
        "record\n"
      ],
      "execution_count": null,
      "outputs": [
        {
          "output_type": "execute_result",
          "data": {
            "text/plain": [
              "{'1001': {'Rate pr': 4, 'dis': 'yes', 'name': 'rice', 'pr': 34, 'qn': 34},\n",
              " '1002': {'Rate pr': 4, 'dis': 'yes', 'name': 'butter', 'pr': 12, 'qn': 13},\n",
              " '1003': {'Rate pr': 5, 'dis': 'no', 'name': 'Drink', 'pr': 85, 'qn': 100},\n",
              " '1004': {'Rate pr': 4, 'dis': 'yes', 'name': 'Candy', 'pr': 5, 'qn': 1000},\n",
              " '1005': {'Rate pr': 3, 'dis': 'yes', 'name': 'Pen', 'pr': 20, 'qn': 100},\n",
              " '1006': {'Rate pr': 3, 'dis': 'yes', 'name': 'Phone', 'pr': 50000, 'qn': 10},\n",
              " '1007': {'Rate pr': 2, 'dis': 'no', 'name': 'Mic', 'pr': 1500, 'qn': 0},\n",
              " '1008': {'Rate pr': 3, 'dis': 'no', 'name': 'Case', 'pr': 599, 'qn': 5},\n",
              " '1009': {'Rate pr': 3,\n",
              "  'dis': 'yes',\n",
              "  'name': 'Keyboard',\n",
              "  'pr': 1999,\n",
              "  'qn': 10},\n",
              " '1010': {'Rate pr': 3, 'dis': 'yes', 'name': 'Choco', 'pr': 100, 'qn': 34},\n",
              " '1011': {'Rate pr': 3, 'dis': 'yes', 'name': 'milkshake', 'pr': 102, 'qn': 3},\n",
              " '1012': {'Rate pr': 2,\n",
              "  'dis': 'yes',\n",
              "  'name': 'Bananashake',\n",
              "  'pr': 150,\n",
              "  'qn': 3},\n",
              " '1013': {'Rate pr': 3, 'dis': 'no', 'name': 'Cake', 'pr': 100, 'qn': 34},\n",
              " '1014': {'Rate pr': 3, 'dis': 'yes', 'name': 'glasses', 'pr': 1000, 'qn': 10},\n",
              " '1015': {'Rate pr': 5, 'dis': 'no', 'name': 'Camera', 'pr': 10000, 'qn': 34},\n",
              " '1016': {'Rate pr': 4,\n",
              "  'dis': 'yes',\n",
              "  'name': 'study board',\n",
              "  'pr': 500,\n",
              "  'qn': 316},\n",
              " '1017': {'Rate pr': 3, 'dis': 'yes', 'name': 'Sofa', 'pr': 10000, 'qn': 5},\n",
              " '1018': {'Rate pr': 5,\n",
              "  'dis': 'yes',\n",
              "  'name': 'Textbook',\n",
              "  'pr': 1200,\n",
              "  'qn': 314},\n",
              " '1019': {'Rate pr': 3, 'dis': 'yes', 'name': 'Notebook', 'pr': 100, 'qn': 34},\n",
              " '1020': {'Rate pr': 5, 'dis': 'no', 'name': 'Workbook', 'pr': 300, 'qn': 233},\n",
              " '1021': {'Rate pr': 3, 'dis': 'yes', 'name': 'box', 'pr': 100, 'qn': 34},\n",
              " '1022': {'Rate pr': 3, 'dis': 'no', 'name': 'pillow', 'pr': 100, 'qn': 12},\n",
              " '1023': {'Rate pr': 3, 'dis': 'no', 'name': 'Bedsheet', 'pr': 100, 'qn': 67},\n",
              " '1024': {'Rate pr': 3, 'dis': 'no', 'name': 'Matrix', 'pr': 1600, 'qn': 43},\n",
              " '1025': {'Rate pr': 3, 'dis': 'yes', 'name': 'knife', 'pr': 150, 'qn': 6},\n",
              " '1026': {'Rate pr': 3,\n",
              "  'dis': 'yes',\n",
              "  'name': 'utensiles',\n",
              "  'pr': 700,\n",
              "  'qn': 38},\n",
              " '1027': {'Rate pr': 3, 'dis': 'yes', 'name': 'Flower', 'pr': 800, 'qn': 534},\n",
              " '1028': {'Rate pr': 3, 'dis': 'no', 'name': 'shirt', 'pr': 107, 'qn': 24},\n",
              " '1029': {'Rate pr': 3, 'dis': 'yes', 'name': 'Award', 'pr': 100, 'qn': 34},\n",
              " '1030': {'Rate pr': 5, 'dis': 'no', 'name': 'Table', 'pr': 1000, 'qn': 10}}"
            ]
          },
          "metadata": {},
          "execution_count": 14
        }
      ]
    }
  ]
}