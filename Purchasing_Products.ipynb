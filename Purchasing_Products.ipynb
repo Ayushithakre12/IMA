{
  "nbformat": 4,
  "nbformat_minor": 0,
  "metadata": {
    "colab": {
      "name": "Purchasing_Products.ipynb",
      "provenance": [],
      "collapsed_sections": [],
      "authorship_tag": "ABX9TyO7Q4yqHYHlQ1qkkxqc1tGT",
      "include_colab_link": true
    },
    "kernelspec": {
      "name": "python3",
      "display_name": "Python 3"
    },
    "language_info": {
      "name": "python"
    }
  },
  "cells": [
    {
      "cell_type": "markdown",
      "metadata": {
        "id": "view-in-github",
        "colab_type": "text"
      },
      "source": [
        "<a href=\"https://colab.research.google.com/github/Ayushithakre12/IMA/blob/main/Purchasing_Products.ipynb\" target=\"_parent\"><img src=\"https://colab.research.google.com/assets/colab-badge.svg\" alt=\"Open In Colab\"/></a>"
      ]
    },
    {
      "cell_type": "markdown",
      "metadata": {
        "id": "794fceDNagw2"
      },
      "source": [
        "## Reading Inventory"
      ]
    },
    {
      "cell_type": "code",
      "metadata": {
        "id": "tyyfkUd01QQF"
      },
      "source": [
        "import json\n",
        "\n",
        "fd = open(\"record.json\",'r')\n",
        "r = fd.read()\n",
        "fd.close()\n",
        "\n",
        "records = json.loads(r)"
      ],
      "execution_count": null,
      "outputs": []
    },
    {
      "cell_type": "code",
      "metadata": {
        "colab": {
          "base_uri": "https://localhost:8080/"
        },
        "id": "jBcPWMdFkMlv",
        "outputId": "86ae7941-c11d-46ad-cc5a-57080e8338f5"
      },
      "source": [
        "records"
      ],
      "execution_count": null,
      "outputs": [
        {
          "output_type": "execute_result",
          "data": {
            "text/plain": [
              "{'1001': {'Rate pr': 3,\n",
              "  'dis': 'yes',\n",
              "  'name': 'Choco Cake',\n",
              "  'pr': 100,\n",
              "  'qn': 34},\n",
              " '1002': {'Rate pr': 4,\n",
              "  'dis': 'yes',\n",
              "  'name': 'Milk Cake',\n",
              "  'pr': 800,\n",
              "  'qn': 100},\n",
              " '1003': {'Rate pr': 5, 'dis': 'no', 'name': 'Drink', 'pr': 85, 'qn': 100},\n",
              " '1004': {'Rate pr': 4, 'dis': 'yes', 'name': 'Candy', 'pr': 5, 'qn': 1000},\n",
              " '1005': {'Rate pr': 3, 'dis': 'yes', 'name': 'Pen', 'pr': 20, 'qn': 100},\n",
              " '1006': {'Rate pr': 3, 'dis': 'yes', 'name': 'Phone', 'pr': 50000, 'qn': 10},\n",
              " '1007': {'Rate pr': 2, 'dis': 'no', 'name': 'Mic', 'pr': 1500, 'qn': 0},\n",
              " '1008': {'Rate pr': 3, 'dis': 'no', 'name': 'Case', 'pr': 599, 'qn': 5},\n",
              " '1009': {'Rate pr': 3,\n",
              "  'dis': 'yes',\n",
              "  'name': 'Keyboard',\n",
              "  'pr': 1999,\n",
              "  'qn': 10},\n",
              " '1010': {'Rate pr': 3, 'dis': 'yes', 'name': 'Choco', 'pr': 100, 'qn': 34},\n",
              " '1011': {'Rate pr': 3, 'dis': 'yes', 'name': 'milkshake', 'pr': 102, 'qn': 3},\n",
              " '1012': {'Rate pr': 2,\n",
              "  'dis': 'yes',\n",
              "  'name': 'Bananashake',\n",
              "  'pr': 150,\n",
              "  'qn': 3},\n",
              " '1013': {'Rate pr': 3, 'dis': 'no', 'name': 'Cake', 'pr': 100, 'qn': 34},\n",
              " '1014': {'Rate pr': 3, 'dis': 'yes', 'name': 'glasses', 'pr': 1000, 'qn': 10},\n",
              " '1015': {'Rate pr': 5, 'dis': 'no', 'name': 'Camera', 'pr': 10000, 'qn': 34},\n",
              " '1016': {'Rate pr': 4,\n",
              "  'dis': 'yes',\n",
              "  'name': 'study board',\n",
              "  'pr': 500,\n",
              "  'qn': 316},\n",
              " '1017': {'Rate pr': 3, 'dis': 'yes', 'name': 'Sofa', 'pr': 10000, 'qn': 5},\n",
              " '1018': {'Rate pr': 5,\n",
              "  'dis': 'yes',\n",
              "  'name': 'Textbook',\n",
              "  'pr': 1200,\n",
              "  'qn': 314},\n",
              " '1019': {'Rate pr': 3, 'dis': 'yes', 'name': 'Notebook', 'pr': 100, 'qn': 34},\n",
              " '1020': {'Rate pr': 5, 'dis': 'no', 'name': 'Workbook', 'pr': 300, 'qn': 233},\n",
              " '1021': {'Rate pr': 3, 'dis': 'yes', 'name': 'box', 'pr': 100, 'qn': 34},\n",
              " '1022': {'Rate pr': 3, 'dis': 'no', 'name': 'pillow', 'pr': 100, 'qn': 12},\n",
              " '1023': {'Rate pr': 3, 'dis': 'no', 'name': 'Bedsheet', 'pr': 100, 'qn': 67},\n",
              " '1024': {'Rate pr': 3, 'dis': 'no', 'name': 'Matrix', 'pr': 1600, 'qn': 43},\n",
              " '1025': {'Rate pr': 3, 'dis': 'yes', 'name': 'knife', 'pr': 150, 'qn': 6},\n",
              " '1026': {'Rate pr': 3,\n",
              "  'dis': 'yes',\n",
              "  'name': 'utensiles',\n",
              "  'pr': 700,\n",
              "  'qn': 38},\n",
              " '1027': {'Rate pr': 3, 'dis': 'yes', 'name': 'Flower', 'pr': 800, 'qn': 534},\n",
              " '1028': {'Rate pr': 3, 'dis': 'no', 'name': 'shirt', 'pr': 107, 'qn': 24},\n",
              " '1029': {'Rate pr': 3, 'dis': 'yes', 'name': 'Award', 'pr': 100, 'qn': 34},\n",
              " '1030': {'Rate pr': 5, 'dis': 'no', 'name': 'Table', 'pr': 1000, 'qn': 10}}"
            ]
          },
          "metadata": {},
          "execution_count": 4
        }
      ]
    },
    {
      "cell_type": "markdown",
      "metadata": {
        "id": "ZQJ06I8hkeh0"
      },
      "source": [
        "### Purchase"
      ]
    },
    {
      "cell_type": "code",
      "metadata": {
        "colab": {
          "base_uri": "https://localhost:8080/"
        },
        "id": "Ers9jn-WkOxu",
        "outputId": "60a648ec-e292-439c-955b-497b3e1a3a6d"
      },
      "source": [
        "ui_prod  = str(input(\"Enter the product_Id: \"))\n",
        "ui_quant = int(input(\"Enter the quantity: \"))\n",
        "\n",
        "\n",
        "print(\"Product: \", records[ui_prod]['name'])\n",
        "print(\"Price: \", records[ui_prod]['pr'])\n",
        "print(\"Billing Amount: \", records[ui_prod]['pr'] * ui_quant)\n",
        "\n",
        "records[ui_prod]['qn'] = records[ui_prod]['qn'] - ui_quant"
      ],
      "execution_count": null,
      "outputs": [
        {
          "output_type": "stream",
          "name": "stdout",
          "text": [
            "Enter the product_Id: 1009\n",
            "Enter the quantity: 6\n",
            "Product:  Keyboard\n",
            "Price:  1999\n",
            "Billing Amount:  11994\n"
          ]
        }
      ]
    },
    {
      "cell_type": "markdown",
      "metadata": {
        "id": "FBQaBr97l-dU"
      },
      "source": [
        "## Upadate Inventory After purcahase"
      ]
    },
    {
      "cell_type": "code",
      "metadata": {
        "id": "bPSDur0ylm_v"
      },
      "source": [
        "js = json.dumps(records)\n",
        "\n",
        "fd = open(\"record.json\",'w')\n",
        "fd.write(js)\n",
        "fd.close()"
      ],
      "execution_count": null,
      "outputs": []
    },
    {
      "cell_type": "markdown",
      "metadata": {
        "id": "gwd9185imjOb"
      },
      "source": [
        "## Sale data"
      ]
    },
    {
      "cell_type": "code",
      "metadata": {
        "colab": {
          "base_uri": "https://localhost:8080/"
        },
        "id": "3lDpV0ZAmXL7",
        "outputId": "8f0f1835-7f27-4dbf-e670-76c4a9d6004f"
      },
      "source": [
        "{'prod' : ui_prod, 'qn' : ui_quant, 'amount': records[ui_prod]['pr'] * ui_quant}    "
      ],
      "execution_count": null,
      "outputs": [
        {
          "output_type": "execute_result",
          "data": {
            "text/plain": [
              "{'amount': 11994, 'prod': '1009', 'qn': 6}"
            ]
          },
          "metadata": {},
          "execution_count": 127
        }
      ]
    },
    {
      "cell_type": "code",
      "metadata": {
        "id": "yzhMilchoTW2"
      },
      "source": [
        "sales[(len(sales)+1)]={'prod' : ui_prod, 'qn' : ui_quant, 'amount': records[ui_prod]['pr'] * ui_quant}"
      ],
      "execution_count": null,
      "outputs": []
    },
    {
      "cell_type": "code",
      "metadata": {
        "colab": {
          "base_uri": "https://localhost:8080/"
        },
        "id": "vv8FhJ_kngJQ",
        "outputId": "36a092ec-1d21-4092-c358-5afcdc57a95b"
      },
      "source": [
        "{(len(sales)+1): {'prod' : ui_prod, 'qn' : ui_quant, 'amount': records[ui_prod]['pr'] * ui_quant}}"
      ],
      "execution_count": null,
      "outputs": [
        {
          "output_type": "execute_result",
          "data": {
            "text/plain": [
              "{10: {'amount': 750, 'prod': '1025', 'qn': 5}}"
            ]
          },
          "metadata": {},
          "execution_count": 118
        }
      ]
    },
    {
      "cell_type": "code",
      "metadata": {
        "colab": {
          "base_uri": "https://localhost:8080/"
        },
        "id": "t_LyChbzpnBS",
        "outputId": "ec775013-45c9-4812-c6e0-2f708bd41033"
      },
      "source": [
        "sales"
      ],
      "execution_count": null,
      "outputs": [
        {
          "output_type": "execute_result",
          "data": {
            "text/plain": [
              "{1: {'amount': 100000, 'prod': '1006', 'qn': 2},\n",
              " 2: {'amount': 100000, 'prod': '1006', 'qn': 2},\n",
              " 3: {'amount': 100000, 'prod': '1006', 'qn': 2},\n",
              " 4: {'amount': 100000, 'prod': '1006', 'qn': 2},\n",
              " 5: {'amount': 100000, 'prod': '1006', 'qn': 2},\n",
              " 6: {'amount': 400, 'prod': '1021', 'qn': 4},\n",
              " 7: {'amount': 6000, 'prod': '1030', 'qn': 6},\n",
              " 8: {'amount': 612, 'prod': '1011', 'qn': 6},\n",
              " 9: {'amount': 750, 'prod': '1025', 'qn': 5},\n",
              " 10: {'amount': 11994, 'prod': '1009', 'qn': 6}}"
            ]
          },
          "metadata": {},
          "execution_count": 129
        }
      ]
    },
    {
      "cell_type": "code",
      "metadata": {
        "id": "L3312EB3nSJO"
      },
      "source": [
        "sale= json.dumps(sales)"
      ],
      "execution_count": null,
      "outputs": []
    },
    {
      "cell_type": "code",
      "metadata": {
        "id": "-PDKoFiBnY-d"
      },
      "source": [
        "fd = open(\"sale.json\",'w')\n",
        "r = fd.write(sale)\n",
        "fd.close()"
      ],
      "execution_count": null,
      "outputs": []
    },
    {
      "cell_type": "code",
      "metadata": {
        "colab": {
          "base_uri": "https://localhost:8080/",
          "height": 69
        },
        "id": "Oq634ne2qu1_",
        "outputId": "2cb337ca-b30c-4029-daa3-4de8528b4591"
      },
      "source": [
        "sale"
      ],
      "execution_count": null,
      "outputs": [
        {
          "output_type": "execute_result",
          "data": {
            "application/vnd.google.colaboratory.intrinsic+json": {
              "type": "string"
            },
            "text/plain": [
              "'{\"1\": {\"prod\": \"1006\", \"qn\": 2, \"amount\": 100000}, \"2\": {\"prod\": \"1006\", \"qn\": 2, \"amount\": 100000}, \"3\": {\"prod\": \"1006\", \"qn\": 2, \"amount\": 100000}, \"4\": {\"prod\": \"1006\", \"qn\": 2, \"amount\": 100000}, \"5\": {\"prod\": \"1006\", \"qn\": 2, \"amount\": 100000}, \"6\": {\"prod\": \"1021\", \"qn\": 4, \"amount\": 400}, \"7\": {\"prod\": \"1030\", \"qn\": 6, \"amount\": 6000}, \"8\": {\"prod\": \"1011\", \"qn\": 6, \"amount\": 612}, \"9\": {\"prod\": \"1025\", \"qn\": 5, \"amount\": 750}, \"10\": {\"prod\": \"1009\", \"qn\": 6, \"amount\": 11994}}'"
            ]
          },
          "metadata": {},
          "execution_count": 132
        }
      ]
    },
    {
      "cell_type": "code",
      "metadata": {
        "id": "2t5prju5rxqm"
      },
      "source": [
        ""
      ],
      "execution_count": null,
      "outputs": []
    }
  ]
}